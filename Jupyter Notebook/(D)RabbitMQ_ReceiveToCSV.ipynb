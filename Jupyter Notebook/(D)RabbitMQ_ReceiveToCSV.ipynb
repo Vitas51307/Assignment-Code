{
 "cells": [
  {
   "cell_type": "markdown",
   "id": "e03e128c-6632-419f-988e-feb0815dd42b",
   "metadata": {},
   "source": [
    "## RabbitMQ_ReceiveToCSV"
   ]
  },
  {
   "cell_type": "markdown",
   "id": "1c98c316-2140-4a06-b422-301cbec2e902",
   "metadata": {},
   "source": [
    "#### Parameter"
   ]
  },
  {
   "cell_type": "code",
   "execution_count": 1,
   "id": "298a605f-b739-441c-aa3c-2e1b2c60f349",
   "metadata": {},
   "outputs": [],
   "source": [
    "host='localhost'\n",
    "queue='Position'\n",
    "exchange='amq.direct'"
   ]
  },
  {
   "cell_type": "markdown",
   "id": "5442fe60-909d-478f-b70e-ee8eba9bffd4",
   "metadata": {},
   "source": [
    "#### Program"
   ]
  },
  {
   "cell_type": "code",
   "execution_count": 2,
   "id": "9b79364f-8797-4f2b-84e5-bfb7a6657c16",
   "metadata": {},
   "outputs": [
    {
     "name": "stdout",
     "output_type": "stream",
     "text": [
      " [*] Waiting for messages. To exit press i+i.\n",
      " [v] Received '0 1.474 0'\n",
      " [v] Received '0 1.474 0'\n",
      " [v] Received '0 1.474 0'\n",
      " [v] Received '5.978092 1.51 0'\n",
      " [v] Received '5.996688 1.51 6.000459'\n",
      " [v] Received '0.0140958 1.51 6.01907'\n",
      " [v] Received '-5.990675 1.51 6.01907'\n",
      " [v] Received '-6.027353 1.51 0.04777382'\n",
      " [v] Received '-0.06066418 1.51 0.01084802'\n",
      " [v] Received '-0.02368799 1.51 5.99005'\n",
      " [v] Received '-0.02368799 1.51 6.008692'\n",
      " [v] Received '-0.02368799 1.51 6.008692'\n",
      " [v] Received '-0.02368799 1.51 6.008692'\n",
      " [v] Received '-0.02368799 1.51 6.008692'\n",
      " [v] Received '-0.02368799 1.51 6.008692'\n",
      " [v] Received '-0.02368799 1.51 6.008692'\n",
      " [v] Received '-0.02368799 1.51 6.008692'\n",
      " [v] Received '-0.4065924 1.51 6.035864'\n",
      " [v] Received '0.636371 1.51 5.193057'\n",
      "Stop Receiving.\n"
     ]
    }
   ],
   "source": [
    "import pika, sys, os, time, csv\n",
    "\n",
    "def main():    \n",
    "    def callback(ch, method, properties, body):\n",
    "        ##print(\" [v] Received %r\" % body)\n",
    "        data = body.decode()\n",
    "        print(\" [v] Received %r\" % data)\n",
    "        words = data.split();\n",
    "        ##print(words)\n",
    "        Ch_Pos.writerow(words)\n",
    "        \n",
    "    connection = pika.BlockingConnection(pika.ConnectionParameters(host))\n",
    "    channel = connection.channel()\n",
    "    channel.queue_declare(queue)\n",
    "    channel.queue_bind(queue,exchange) \n",
    "    channel.basic_consume(queue, on_message_callback=callback, auto_ack=True)\n",
    "    print(' [*] Waiting for messages. To exit press i+i.')\n",
    "    channel.start_consuming()\n",
    "\n",
    "if __name__ == '__main__':\n",
    "    with open('CharactorPosition.csv', 'a', newline=\"\") as f: #會存在同資料夾下\n",
    "        Ch_Pos = csv.writer(f)\n",
    "        try:\n",
    "            main()\n",
    "        except KeyboardInterrupt:\n",
    "            print('Stop Receiving.')"
   ]
  }
 ],
 "metadata": {
  "kernelspec": {
   "display_name": "Python 3 (ipykernel)",
   "language": "python",
   "name": "python3"
  },
  "language_info": {
   "codemirror_mode": {
    "name": "ipython",
    "version": 3
   },
   "file_extension": ".py",
   "mimetype": "text/x-python",
   "name": "python",
   "nbconvert_exporter": "python",
   "pygments_lexer": "ipython3",
   "version": "3.8.10"
  }
 },
 "nbformat": 4,
 "nbformat_minor": 5
}
