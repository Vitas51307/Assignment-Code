{
 "cells": [
  {
   "cell_type": "markdown",
   "id": "621790f8-a8f4-4e50-b9cd-6bc14fb143de",
   "metadata": {},
   "source": [
    "## RabbitMQ_Send"
   ]
  },
  {
   "cell_type": "markdown",
   "id": "0949205f-f3e3-417e-8240-284f72ac13ed",
   "metadata": {},
   "source": [
    "#### Parameter"
   ]
  },
  {
   "cell_type": "code",
   "execution_count": 6,
   "id": "b58551bc-230d-44f4-9d41-08495a6258cd",
   "metadata": {},
   "outputs": [],
   "source": [
    "host='localhost'\n",
    "queue='Control'\n",
    "exchange='amq.direct'\n",
    "routing_key='Control'\n",
    "space_time = 1"
   ]
  },
  {
   "cell_type": "markdown",
   "id": "4e990344-b5ac-4da3-ad6a-f6052daab58e",
   "metadata": {},
   "source": [
    "#### Trajectory (Double Circle Shape)"
   ]
  },
  {
   "cell_type": "code",
   "execution_count": 7,
   "id": "67eac892-5c99-4d54-85df-3a821d0da4b5",
   "metadata": {},
   "outputs": [],
   "source": [
    "import numpy as np\n",
    "\n",
    "mes=np.array(['0 0 0','1 0 0','0 0 1','-1 0 0','-1 0 0','0 0 -1','1 0 0','0 0 1','0 0 0'])\n",
    "Length=len(mes)-1\n",
    "\n",
    "#print (mes[1])\n",
    "#print (Length)"
   ]
  },
  {
   "cell_type": "markdown",
   "id": "eb181220-9688-4321-ad83-6ade21401105",
   "metadata": {},
   "source": [
    "#### Program"
   ]
  },
  {
   "cell_type": "code",
   "execution_count": 8,
   "id": "05d78ae1-58ff-459c-be43-1844365314b7",
   "metadata": {},
   "outputs": [
    {
     "name": "stdout",
     "output_type": "stream",
     "text": [
      "[V] Just Sent '0 0 0'\n",
      "[V] Just Sent '1 0 0'\n",
      "[V] Just Sent '0 0 1'\n",
      "[V] Just Sent '-1 0 0'\n",
      "[V] Just Sent '-1 0 0'\n",
      "[V] Just Sent '0 0 -1'\n",
      "[V] Just Sent '1 0 0'\n",
      "[V] Just Sent '0 0 1'\n",
      "[V] Just Sent '0 0 0'\n",
      "已停止，再見！\n"
     ]
    }
   ],
   "source": [
    "import time, pika\n",
    "\n",
    "connection = pika.BlockingConnection(pika.ConnectionParameters(host))\n",
    "channel = connection.channel()\n",
    "channel.queue_declare(queue)\n",
    "channel.queue_bind(queue,exchange) \n",
    "\n",
    "i=0\n",
    "try:\n",
    "    while True:\n",
    "        if i<=Length:\n",
    "            message=mes[i]\n",
    "            channel.basic_publish( exchange, routing_key, body=message)\n",
    "            print(\"[V] Just Sent '%s'\" %message)        \n",
    "            time.sleep(space_time)\n",
    "            i+=1\n",
    "except KeyboardInterrupt: \n",
    "    connection.close()\n",
    "    print('已停止，再見！')\n",
    "    \n"
   ]
  }
 ],
 "metadata": {
  "kernelspec": {
   "display_name": "Python 3 (ipykernel)",
   "language": "python",
   "name": "python3"
  },
  "language_info": {
   "codemirror_mode": {
    "name": "ipython",
    "version": 3
   },
   "file_extension": ".py",
   "mimetype": "text/x-python",
   "name": "python",
   "nbconvert_exporter": "python",
   "pygments_lexer": "ipython3",
   "version": "3.8.10"
  }
 },
 "nbformat": 4,
 "nbformat_minor": 5
}
