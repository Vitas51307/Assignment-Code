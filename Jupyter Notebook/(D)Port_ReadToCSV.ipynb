{
 "cells": [
  {
   "cell_type": "markdown",
   "id": "757ad114-1950-489d-9257-4e03fe6e9a70",
   "metadata": {},
   "source": [
    "## 接收位置並存至 port/CharactorPosition.csv，連接埠:COM13->COM12"
   ]
  },
  {
   "cell_type": "code",
   "execution_count": 2,
   "id": "51060a3e-97f6-41aa-9999-50b7668c80be",
   "metadata": {
    "tags": []
   },
   "outputs": [
    {
     "name": "stdout",
     "output_type": "stream",
     "text": [
      "COM13\n",
      "接收到的原始資料： b''\n",
      "接收到的資料： \n",
      "[]\n",
      "接收到的原始資料： b''\n",
      "接收到的資料： \n",
      "[]\n",
      "接收到的原始資料： b''\n",
      "接收到的資料： \n",
      "[]\n",
      "接收到的原始資料： b''\n",
      "接收到的資料： \n",
      "[]\n",
      "已停止，再見！\n"
     ]
    }
   ],
   "source": [
    "import serial, time, csv\n",
    "\n",
    "ser = serial . Serial('COM13', baudrate = 9600)\n",
    "print(ser.name)\n",
    "ser.timeout=0.5\n",
    "\n",
    "if ser.is_open == False:\n",
    "    ser.open()\n",
    "\n",
    "with open('CharactorPosition.csv', 'a', newline=\"\") as f:\n",
    "    Ch_Pos = csv.writer(f)\n",
    "    try:\n",
    "        while True:\n",
    "            data_raw = ser.readline()\n",
    "            data = data_raw.decode()\n",
    "            print('接收到的原始資料：', data_raw)\n",
    "            print('接收到的資料：', data)\n",
    "            words = data.split();\n",
    "            print (words)\n",
    "            Ch_Pos.writerow(words)\n",
    "            time.sleep(0.5)\n",
    "    except KeyboardInterrupt:\n",
    "        ser.close() \n",
    "        print('已停止，再見！')\n",
    "        ser.is_open\n",
    "\n"
   ]
  }
 ],
 "metadata": {
  "kernelspec": {
   "display_name": "Python 3 (ipykernel)",
   "language": "python",
   "name": "python3"
  },
  "language_info": {
   "codemirror_mode": {
    "name": "ipython",
    "version": 3
   },
   "file_extension": ".py",
   "mimetype": "text/x-python",
   "name": "python",
   "nbconvert_exporter": "python",
   "pygments_lexer": "ipython3",
   "version": "3.8.10"
  }
 },
 "nbformat": 4,
 "nbformat_minor": 5
}
