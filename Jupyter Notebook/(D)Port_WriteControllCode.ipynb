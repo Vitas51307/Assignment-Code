{
 "cells": [
  {
   "cell_type": "markdown",
   "id": "fc763421-4a77-475f-ae8b-495f8cc12377",
   "metadata": {},
   "source": [
    "## 傳送一個八字形路徑給 Unity，連接埠:COM11->COM10"
   ]
  },
  {
   "cell_type": "code",
   "execution_count": 2,
   "id": "f26b55f6-e975-4a1c-8a6d-47be5abd38e4",
   "metadata": {},
   "outputs": [
    {
     "name": "stdout",
     "output_type": "stream",
     "text": [
      "COM11\n",
      "Sent Message : 0 0 0\n",
      "Sent Message : 1 0 0\n",
      "Sent Message : 0 0 0\n",
      "已停止！\n"
     ]
    }
   ],
   "source": [
    "import serial, time\n",
    "\n",
    "ser = serial . Serial('COM11', # Device name varies\n",
    "baudrate = 9600)\n",
    "print(ser.name)\n",
    "ser.timeout=0.5\n",
    "\n",
    "if ser.is_open == False:\n",
    "    ser.open()\n",
    "x=3;\n",
    "y=1;\n",
    "try:\n",
    "    while True:\n",
    "        ser.write(b'0 0 0')\n",
    "        print('Sent Message : 0 0 0' )\n",
    "        ser.flush()\n",
    "        time.sleep(y)\n",
    "        ser.write(b'1 0 0')\n",
    "        print('Sent Message : 1 0 0' )\n",
    "        ser.flush()\n",
    "        time.sleep(x)\n",
    "        ser.write(b'0 0 1')\n",
    "        print('Sent Message : 0 0 1' )\n",
    "        ser.flush()\n",
    "        time.sleep(x)\n",
    "        ser.write(b'-1 0 0')\n",
    "        print('Sent Message : -1 0 0' )\n",
    "        ser.flush()\n",
    "        time.sleep(x)\n",
    "        ser.write(b'0 0 -1')\n",
    "        print('Sent Message : 0 0 -1' )\n",
    "        ser.flush()\n",
    "        time.sleep(x)\n",
    "        ser.write(b'0 0 0')\n",
    "        print('Sent Message : 0 0 0' )\n",
    "        ser.flush()\n",
    "        time.sleep(y)\n",
    "        ser.write(b'-1 0 0')\n",
    "        print('Sent Message : -1 0 0' )\n",
    "        ser.flush()\n",
    "        time.sleep(x)\n",
    "        ser.write(b'0 0 -1')\n",
    "        print('Sent Message : 0 0 -1' )\n",
    "        ser.flush()\n",
    "        time.sleep(x)\n",
    "        ser.write(b'1 0 0')\n",
    "        print('Sent Message : 1 0 0' )\n",
    "        ser.flush()\n",
    "        time.sleep(x)\n",
    "        ser.write(b'0 0 1')\n",
    "        print('Sent Message : 0 0 1' )\n",
    "        ser.flush()\n",
    "        time.sleep(x)\n",
    "except KeyboardInterrupt:\n",
    "    ser.write(b'0 0 0')\n",
    "    print('Sent Message : 0 0 0' )\n",
    "    ser.flush()\n",
    "    time.sleep(1)\n",
    "    ser.close()\n",
    "    print('已停止！')\n",
    "    ser.is_open\n"
   ]
  }
 ],
 "metadata": {
  "kernelspec": {
   "display_name": "Python 3 (ipykernel)",
   "language": "python",
   "name": "python3"
  },
  "language_info": {
   "codemirror_mode": {
    "name": "ipython",
    "version": 3
   },
   "file_extension": ".py",
   "mimetype": "text/x-python",
   "name": "python",
   "nbconvert_exporter": "python",
   "pygments_lexer": "ipython3",
   "version": "3.8.10"
  }
 },
 "nbformat": 4,
 "nbformat_minor": 5
}
